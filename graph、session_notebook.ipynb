{
 "cells": [
  {
   "cell_type": "markdown",
   "metadata": {},
   "source": [
    "tensorflow图的理解\n",
    "\n",
    "主要解释：tf.Graph() tf.get_default_graph()  g.as_default() "
   ]
  },
  {
   "cell_type": "code",
   "execution_count": 2,
   "metadata": {},
   "outputs": [],
   "source": [
    "import tensorflow as tf"
   ]
  },
  {
   "cell_type": "markdown",
   "metadata": {},
   "source": [
    "1、tf.Graph()会创建一个新的图，即使使用tf.Graph().as_default() 创建的图和默认图也不是同一个图\n"
   ]
  },
  {
   "cell_type": "code",
   "execution_count": 52,
   "metadata": {},
   "outputs": [
    {
     "name": "stdout",
     "output_type": "stream",
     "text": [
      "('tf default graph:', <tensorflow.python.framework.ops.Graph object at 0x7f41ca681750>)\n",
      "('tf.Graph() graph:', <tensorflow.python.framework.ops.Graph object at 0x7f41f079dd10>)\n"
     ]
    }
   ],
   "source": [
    "print('tf default graph:', tf.get_default_graph())\n",
    "print('tf.Graph() graph:', tf.Graph())"
   ]
  },
  {
   "cell_type": "markdown",
   "metadata": {},
   "source": [
    "2、 设置默认图， tf.get_default_graph()函数会返回目前的默认图，全局时候返回tensorflow默认的默认图"
   ]
  },
  {
   "cell_type": "code",
   "execution_count": 64,
   "metadata": {},
   "outputs": [
    {
     "name": "stdout",
     "output_type": "stream",
     "text": [
      "('tf default graph:', <tensorflow.python.framework.ops.Graph object at 0x7f41ca681750>)\n",
      "('f graph:', <tensorflow.python.framework.ops.Graph object at 0x7f41f0885290>)\n",
      "('inside with default graph:', <tensorflow.python.framework.ops.Graph object at 0x7f41f0885290>)\n",
      "('g:', <contextlib.GeneratorContextManager object at 0x7f41f0885b50>)\n",
      "('a graph:', <tensorflow.python.framework.ops.Graph object at 0x7f41ca681750>)\n",
      "('d graph:', <tensorflow.python.framework.ops.Graph object at 0x7f41ca681750>)\n",
      "('tf default graph:', <tensorflow.python.framework.ops.Graph object at 0x7f41ca681750>)\n"
     ]
    }
   ],
   "source": [
    "print('tf default graph:', tf.get_default_graph())\n",
    "a = tf.constant([3])\n",
    "g = tf.Graph().as_default() # 不会改变之后定义的变量的图，也不会改变默认图, 单单生成一个内容管理器，\n",
    "                            #必须要加上as_default()函数，将目前的图设置为默认图，否则在使用时候会出错\n",
    "                            #如果此处没有加，还可以在以后的with语句中加入\n",
    "d = tf.constant([4])\n",
    "with g: \n",
    "    f = tf.constant([5])\n",
    "    print('f graph:', f.graph) \n",
    "    print('inside with default graph:', tf.get_default_graph()) #with里面的默认图为用户用as_default()函数指定的默认图\n",
    "print('g:', g)\n",
    "print('a graph:', a.graph)\n",
    "print('d graph:', d.graph)\n",
    "print('tf default graph:', tf.get_default_graph())# 默认图并没有被改变\n"
   ]
  },
  {
   "cell_type": "markdown",
   "metadata": {},
   "source": [
    "3、 在with语句中，tf.get_default_graph()获取的是设定的默认图,但是在with语句之外, tf.get_default_graph()返回的依然是原来默认图，\n",
    "    即with语句将图的范围限定，随着with语句的结束，图也跟着结束 这一点和session不同，session不会随着with语句的结束而结束"
   ]
  },
  {
   "cell_type": "code",
   "execution_count": 53,
   "metadata": {},
   "outputs": [
    {
     "name": "stdout",
     "output_type": "stream",
     "text": [
      "('tf default graph:', <tensorflow.python.framework.ops.Graph object at 0x7f41ca681750>)\n",
      "('inside with graph:', <tensorflow.python.framework.ops.Graph object at 0x7f41ca681310>)\n",
      "('inside with default graph:', <tensorflow.python.framework.ops.Graph object at 0x7f41ca681310>)\n",
      "('outside with default graph:', <tensorflow.python.framework.ops.Graph object at 0x7f41ca681750>)\n"
     ]
    }
   ],
   "source": [
    "print( 'tf default graph:', tf.get_default_graph())\n",
    "with tf.Graph().as_default() as g:\n",
    "    print('inside with graph:', g)\n",
    "    print('inside with default graph:', tf.get_default_graph())#在with语句里面设置默认图之后，\n",
    "                                                               # tf.get_default_graph()返回的是用户设置的默认图\n",
    "print('outside with default graph:', tf.get_default_graph()) #默认图并没有因为with语句里面设置默认图的操作而改变"
   ]
  },
  {
   "cell_type": "markdown",
   "metadata": {},
   "source": [
    "4、定义函数时候，不要使用图，否则函数调用时候会出错，会导致不同图中的变量进行计算，这是不被允许的"
   ]
  },
  {
   "cell_type": "code",
   "execution_count": 77,
   "metadata": {},
   "outputs": [
    {
     "ename": "AttributeError",
     "evalue": "__exit__",
     "output_type": "error",
     "traceback": [
      "\u001b[0;31m---------------------------------------------------------------------------\u001b[0m",
      "\u001b[0;31mAttributeError\u001b[0m                            Traceback (most recent call last)",
      "\u001b[0;32m<ipython-input-77-97e4371925e3>\u001b[0m in \u001b[0;36m<module>\u001b[0;34m()\u001b[0m\n\u001b[1;32m      8\u001b[0m         \u001b[0;32mreturn\u001b[0m \u001b[0mtf\u001b[0m\u001b[0;34m.\u001b[0m\u001b[0madd\u001b[0m\u001b[0;34m(\u001b[0m\u001b[0ma\u001b[0m\u001b[0;34m,\u001b[0m\u001b[0mb\u001b[0m\u001b[0;34m)\u001b[0m\u001b[0;34m\u001b[0m\u001b[0m\n\u001b[1;32m      9\u001b[0m \u001b[0;34m\u001b[0m\u001b[0m\n\u001b[0;32m---> 10\u001b[0;31m \u001b[0mc\u001b[0m \u001b[0;34m=\u001b[0m \u001b[0mmyadd\u001b[0m\u001b[0;34m(\u001b[0m\u001b[0;34m)\u001b[0m \u001b[0;31m#错， 不能在tensorflow默认图中调用g1图中的函数，跨图操作是不能的\u001b[0m\u001b[0;34m\u001b[0m\u001b[0m\n\u001b[0m\u001b[1;32m     11\u001b[0m \u001b[0md\u001b[0m \u001b[0;34m=\u001b[0m \u001b[0mtf\u001b[0m\u001b[0;34m.\u001b[0m\u001b[0mconstant\u001b[0m\u001b[0;34m(\u001b[0m\u001b[0;34m[\u001b[0m\u001b[0;36m6\u001b[0m\u001b[0;34m]\u001b[0m\u001b[0;34m)\u001b[0m\u001b[0;34m\u001b[0m\u001b[0m\n\u001b[1;32m     12\u001b[0m \u001b[0mtf\u001b[0m\u001b[0;34m.\u001b[0m\u001b[0madd\u001b[0m\u001b[0;34m(\u001b[0m\u001b[0mc\u001b[0m\u001b[0;34m,\u001b[0m\u001b[0md\u001b[0m\u001b[0;34m)\u001b[0m \u001b[0;31m#报错， 因为c是图g1中的量，d是tensorflow默认图中的量，两者不在一个图中，不能进行计算\u001b[0m\u001b[0;34m\u001b[0m\u001b[0m\n",
      "\u001b[0;32m<ipython-input-77-97e4371925e3>\u001b[0m in \u001b[0;36mmyadd\u001b[0;34m()\u001b[0m\n\u001b[1;32m      1\u001b[0m \u001b[0;34m\u001b[0m\u001b[0m\n\u001b[1;32m      2\u001b[0m \u001b[0;32mdef\u001b[0m \u001b[0mmyadd\u001b[0m\u001b[0;34m(\u001b[0m\u001b[0;34m)\u001b[0m\u001b[0;34m:\u001b[0m\u001b[0;34m\u001b[0m\u001b[0m\n\u001b[0;32m----> 3\u001b[0;31m     \u001b[0;32mwith\u001b[0m \u001b[0mtf\u001b[0m\u001b[0;34m.\u001b[0m\u001b[0mGraph\u001b[0m\u001b[0;34m(\u001b[0m\u001b[0;34m)\u001b[0m\u001b[0;34m.\u001b[0m\u001b[0mas_default\u001b[0m \u001b[0;32mas\u001b[0m \u001b[0mg1\u001b[0m\u001b[0;34m:\u001b[0m \u001b[0;31m#函数定义时候不要指定图，因为跨图调用函数是不被允许的，\u001b[0m\u001b[0;34m\u001b[0m\u001b[0m\n\u001b[0m\u001b[1;32m      4\u001b[0m                                       \u001b[0;31m#当函数定义时候没有指定图时，函数将被装载到调用位置所在的图中， 如myadd1所示\u001b[0m\u001b[0;34m\u001b[0m\u001b[0;34m\u001b[0m\u001b[0m\n\u001b[1;32m      5\u001b[0m         \u001b[0ma\u001b[0m \u001b[0;34m=\u001b[0m \u001b[0mtf\u001b[0m\u001b[0;34m.\u001b[0m\u001b[0mconstant\u001b[0m\u001b[0;34m(\u001b[0m\u001b[0;34m[\u001b[0m\u001b[0;36m1\u001b[0m\u001b[0;34m]\u001b[0m\u001b[0;34m)\u001b[0m\u001b[0;34m\u001b[0m\u001b[0m\n",
      "\u001b[0;31mAttributeError\u001b[0m: __exit__"
     ]
    }
   ],
   "source": [
    "\n",
    "def myadd():\n",
    "    with tf.Graph().as_default as g1: #函数定义时候不要指定图，因为跨图调用函数是不被允许的，\n",
    "                                      #当函数定义时候没有指定图时，函数将被装载到调用位置所在的图中， 如myadd1所示\n",
    "        a = tf.constant([1])\n",
    "        b = tf.constant([2])\n",
    "        print('g1 graph:', g1)\n",
    "        return tf.add(a,b)\n",
    "   \n",
    "c = myadd() #错， 不能在tensorflow默认图中调用g1图中的函数，跨图操作是不能的\n",
    "d = tf.constant([6])\n",
    "tf.add(c,d) #报错， 因为c是图g1中的量，d是tensorflow默认图中的量，两者不在一个图中，不能进行计算\n",
    "\n",
    "print('c graph:', c.graph)\n",
    "print('d graph:', d.graph)\n",
    "\n",
    "\n",
    "print('*****************')\n"
   ]
  },
  {
   "cell_type": "code",
   "execution_count": 79,
   "metadata": {},
   "outputs": [
    {
     "name": "stdout",
     "output_type": "stream",
     "text": [
      "<tensorflow.python.framework.ops.Graph object at 0x7f41ca681750>\n",
      "<tensorflow.python.framework.ops.Graph object at 0x7f41ca681750>\n",
      "('cc graph:', <tensorflow.python.framework.ops.Graph object at 0x7f41f0876d90>)\n",
      "('gg graph:', <tensorflow.python.framework.ops.Graph object at 0x7f41f0876d90>)\n",
      "('inside with default graph:', <tensorflow.python.framework.ops.Graph object at 0x7f41f0876d90>)\n",
      "('outside with default graph:', <tensorflow.python.framework.ops.Graph object at 0x7f41ca681750>)\n"
     ]
    }
   ],
   "source": [
    "def myadd1():\n",
    "    a = tf.constant([1])\n",
    "    b = tf.constant([2])\n",
    "    return tf.add(a,b)\n",
    "\n",
    "cc = myadd1()  # 调用位置是默认图，因此cc.graph和tf.get_default_graph()相同，都是默认图\n",
    "print(cc.graph)\n",
    "print(tf.get_default_graph())\n",
    "\n",
    "with tf.Graph().as_default() as gg: \n",
    "    cc = myadd1() #此时,cc 在图gg中被调用，cc的图就是gg\n",
    "    print('cc graph:', cc.graph)\n",
    "    print('gg graph:', gg)\n",
    "    print('inside \"with\" default graph:', tf.get_default_graph()) #在图gg中，所以tf.get_default_graph()返回的就是图gg\n",
    "print('outside \"with\" default graph:', tf.get_default_graph())#with语句结束时候，退出设定图，会到默认图，这一点和session不同\n",
    "                                                              #session具有延续性\n"
   ]
  },
  {
   "cell_type": "markdown",
   "metadata": {},
   "source": [
    "5、session的延续性"
   ]
  },
  {
   "cell_type": "code",
   "execution_count": 86,
   "metadata": {},
   "outputs": [
    {
     "name": "stdout",
     "output_type": "stream",
     "text": [
      "None\n",
      "<tensorflow.python.client.session.Session object at 0x7f41f093d310>\n",
      "[4.]\n",
      "<tensorflow.python.client.session.Session object at 0x7f41f093d310>\n"
     ]
    },
    {
     "ename": "RuntimeError",
     "evalue": "Attempted to use a closed Session.",
     "output_type": "error",
     "traceback": [
      "\u001b[0;31m---------------------------------------------------------------------------\u001b[0m",
      "\u001b[0;31mRuntimeError\u001b[0m                              Traceback (most recent call last)",
      "\u001b[0;32m<ipython-input-86-cfc6468e0149>\u001b[0m in \u001b[0;36m<module>\u001b[0;34m()\u001b[0m\n\u001b[1;32m     11\u001b[0m     \u001b[0;32mprint\u001b[0m\u001b[0;34m(\u001b[0m\u001b[0md\u001b[0m\u001b[0;34m)\u001b[0m\u001b[0;34m\u001b[0m\u001b[0m\n\u001b[1;32m     12\u001b[0m \u001b[0;32mprint\u001b[0m\u001b[0;34m(\u001b[0m \u001b[0msess\u001b[0m \u001b[0;34m)\u001b[0m \u001b[0;31m#在with语句以为，sess依然存在\u001b[0m\u001b[0;34m\u001b[0m\u001b[0m\n\u001b[0;32m---> 13\u001b[0;31m \u001b[0;32mprint\u001b[0m\u001b[0;34m(\u001b[0m \u001b[0msess\u001b[0m\u001b[0;34m.\u001b[0m\u001b[0mrun\u001b[0m\u001b[0;34m(\u001b[0m\u001b[0mmyadd\u001b[0m\u001b[0;34m(\u001b[0m\u001b[0;34m)\u001b[0m\u001b[0;34m)\u001b[0m\u001b[0;34m)\u001b[0m\u001b[0;34m\u001b[0m\u001b[0m\n\u001b[0m",
      "\u001b[0;32m/usr/local/lib/python2.7/dist-packages/tensorflow/python/client/session.pyc\u001b[0m in \u001b[0;36mrun\u001b[0;34m(self, fetches, feed_dict, options, run_metadata)\u001b[0m\n\u001b[1;32m    927\u001b[0m     \u001b[0;32mtry\u001b[0m\u001b[0;34m:\u001b[0m\u001b[0;34m\u001b[0m\u001b[0m\n\u001b[1;32m    928\u001b[0m       result = self._run(None, fetches, feed_dict, options_ptr,\n\u001b[0;32m--> 929\u001b[0;31m                          run_metadata_ptr)\n\u001b[0m\u001b[1;32m    930\u001b[0m       \u001b[0;32mif\u001b[0m \u001b[0mrun_metadata\u001b[0m\u001b[0;34m:\u001b[0m\u001b[0;34m\u001b[0m\u001b[0m\n\u001b[1;32m    931\u001b[0m         \u001b[0mproto_data\u001b[0m \u001b[0;34m=\u001b[0m \u001b[0mtf_session\u001b[0m\u001b[0;34m.\u001b[0m\u001b[0mTF_GetBuffer\u001b[0m\u001b[0;34m(\u001b[0m\u001b[0mrun_metadata_ptr\u001b[0m\u001b[0;34m)\u001b[0m\u001b[0;34m\u001b[0m\u001b[0m\n",
      "\u001b[0;32m/usr/local/lib/python2.7/dist-packages/tensorflow/python/client/session.pyc\u001b[0m in \u001b[0;36m_run\u001b[0;34m(self, handle, fetches, feed_dict, options, run_metadata)\u001b[0m\n\u001b[1;32m   1073\u001b[0m     \u001b[0;31m# Check session.\u001b[0m\u001b[0;34m\u001b[0m\u001b[0;34m\u001b[0m\u001b[0m\n\u001b[1;32m   1074\u001b[0m     \u001b[0;32mif\u001b[0m \u001b[0mself\u001b[0m\u001b[0;34m.\u001b[0m\u001b[0m_closed\u001b[0m\u001b[0;34m:\u001b[0m\u001b[0;34m\u001b[0m\u001b[0m\n\u001b[0;32m-> 1075\u001b[0;31m       \u001b[0;32mraise\u001b[0m \u001b[0mRuntimeError\u001b[0m\u001b[0;34m(\u001b[0m\u001b[0;34m'Attempted to use a closed Session.'\u001b[0m\u001b[0;34m)\u001b[0m\u001b[0;34m\u001b[0m\u001b[0m\n\u001b[0m\u001b[1;32m   1076\u001b[0m     \u001b[0;32mif\u001b[0m \u001b[0mself\u001b[0m\u001b[0;34m.\u001b[0m\u001b[0mgraph\u001b[0m\u001b[0;34m.\u001b[0m\u001b[0mversion\u001b[0m \u001b[0;34m==\u001b[0m \u001b[0;36m0\u001b[0m\u001b[0;34m:\u001b[0m\u001b[0;34m\u001b[0m\u001b[0m\n\u001b[1;32m   1077\u001b[0m       raise RuntimeError('The Session graph is empty.  Add operations to the '\n",
      "\u001b[0;31mRuntimeError\u001b[0m: Attempted to use a closed Session."
     ]
    }
   ],
   "source": [
    "def myadd():\n",
    "    a = tf.constant([1.])\n",
    "    b = tf.constant([3.])\n",
    "    return tf.add(a,b)\n",
    "\n",
    "print( tf.get_default_session())\n",
    "with tf.Session() as sess:\n",
    "    sess.as_default()\n",
    "    print(sess)\n",
    "    d = sess.run(myadd())\n",
    "    print(d)\n",
    "print( sess ) #在with语句以为，sess依然存在,虽然已经被关闭，不能使用\n",
    "print(sess.run(myadd()))#错，提示sess已经被关闭"
   ]
  },
  {
   "cell_type": "markdown",
   "metadata": {},
   "source": [
    "\n",
    "    运行多个graph需要多个session，而每个session会试图耗尽所有的计算资源，开销太大；\n",
    "    graph之间没有数据通道，要人为通过python/numpy传数据；\n"
   ]
  },
  {
   "cell_type": "code",
   "execution_count": 21,
   "metadata": {},
   "outputs": [
    {
     "name": "stdout",
     "output_type": "stream",
     "text": [
      "<tensorflow.python.framework.ops.Graph object at 0x7f41ca681750>\n",
      "<contextlib.GeneratorContextManager object at 0x7f41f57018d0>\n",
      "<tensorflow.python.framework.ops.Graph object at 0x7f41ca6eef10>\n",
      "<tensorflow.python.framework.ops.Graph object at 0x7f41ca681750>\n",
      "*********************************************\n",
      "<tensorflow.python.framework.ops.Graph object at 0x7f41c8e3cd10>\n",
      "<tensorflow.python.framework.ops.Graph object at 0x7f41c8e3cd10>\n",
      "<tensorflow.python.framework.ops.Graph object at 0x7f41c8e3cd10>\n",
      "<tensorflow.python.framework.ops.Graph object at 0x7f41c8e3cd10>\n",
      "<tensorflow.python.framework.ops.Graph object at 0x7f41ca681750>\n",
      "************************************************\n",
      "<tensorflow.python.client.session.Session object at 0x7f41c8e3c5d0>\n",
      "<tensorflow.python.framework.ops.Graph object at 0x7f41f5726150>\n",
      "<tensorflow.python.client.session.Session object at 0x7f41c8e3c110>\n",
      "<tensorflow.python.client.session.Session object at 0x7f41c8e3c110>\n",
      "<tensorflow.python.framework.ops.Graph object at 0x7f41f5726150>\n"
     ]
    }
   ],
   "source": [
    "#tf.get_default_graph() 返回tensorflow默认图，不会因为g.as_default()函数的使用而改变\n",
    "g = tf.get_default_graph()\n",
    "g2 = tf.Graph().as_default()\n",
    "g3 = tf.Graph()\n",
    "print(g)\n",
    "print(g2)\n",
    "print(g3)\n",
    "print(tf.get_default_graph()) #虽然中间使用了as_default()函数，但是tensorflow默认图并没有因此而改变\n",
    "\n",
    "print( \"*********************************************\")\n",
    "g4 = tf.Graph()\n",
    "with g4.as_default():\n",
    "    c = tf.constant([3.])\n",
    "    assert c.graph is g4\n",
    "    print(c.graph)\n",
    "    print(g4)\n",
    "    print(tf.get_default_graph()) #在with语句里面， 默认graph会变为g4\n",
    "g4.as_default() # 如果不包含在with语句里面，as_default() 函数无效\n",
    "print(g4)\n",
    "print( tf.get_default_graph())#但是在with语句外面， 默认graph变回原来tensorflow默认图\n",
    "\n",
    "print(\"************************************************\")\n",
    "\n",
    "sess = tf.Session()\n",
    "print(sess)\n",
    "with tf.Session(graph = tf.Graph()).as_default() as sess:\n",
    "    print( sess.graph)\n",
    "    print(sess)\n",
    "print(sess)# session 的as_default()函数会对默认session的改变会延续到with语句以外\n",
    "print( sess.graph)#默认session的图也会延续到with语句以外"
   ]
  },
  {
   "cell_type": "code",
   "execution_count": null,
   "metadata": {},
   "outputs": [],
   "source": [
    "#graph返回值 可以在不同graph中使用"
   ]
  },
  {
   "cell_type": "code",
   "execution_count": 49,
   "metadata": {},
   "outputs": [
    {
     "name": "stdout",
     "output_type": "stream",
     "text": [
      "<tensorflow.python.framework.ops.Graph object at 0x7f41f0585710>\n",
      "<tensorflow.python.framework.ops.Graph object at 0x7f41f0585710>\n",
      "a's graph:\n",
      "<tensorflow.python.framework.ops.Graph object at 0x7f41f0585710>\n",
      "d's graph:\n",
      "<tensorflow.python.framework.ops.Graph object at 0x7f41f0585710>\n",
      "<tensorflow.python.framework.ops.Graph object at 0x7f41f0585710>\n",
      "<tensorflow.python.framework.ops.Graph object at 0x7f41f0585710>\n",
      "****************************************\n",
      "<tensorflow.python.framework.ops.Graph object at 0x7f41f0585990>\n",
      "a's graph:\n",
      "<tensorflow.python.framework.ops.Graph object at 0x7f41f0585990>\n",
      "<tensorflow.python.framework.ops.Graph object at 0x7f41f0585990>\n",
      "<tensorflow.python.framework.ops.Graph object at 0x7f41ca681750>\n"
     ]
    }
   ],
   "source": [
    "#函数定义时候，不能指定图，当函数被调用的时候才会给函数里面的变量指定图， 如果不指定为默认图\n",
    "def tt():\n",
    "    #with tf.Graph().as_default() as g: \n",
    "    c = tf.constant([4])\n",
    "    b = tf.constant([5])\n",
    "    a = tf.add(b,c)\n",
    "    w = tf.Variable(tf.constant([4]))\n",
    "    print(w.graph)\n",
    "    print( \"a's graph:\")\n",
    "    print(a.graph)\n",
    "    #print(g)\n",
    "    return a\n",
    "\n",
    "with tf.Graph().as_default() as gg:\n",
    "    print(gg)\n",
    "    d = tt()#d是属于图g中的值\n",
    "    e = tf.constant([5])#e是属于图gg中的\n",
    "    f = tf.add(d, e) #不同图中的值不能运算\n",
    "    print( \"d's graph:\")\n",
    "    print( d.graph)\n",
    "    print( e.graph)\n",
    "    print( gg )\n",
    "print(\"****************************************\")\n",
    "with tf.Graph().as_default() as ggg:\n",
    "    dd = tt()\n",
    "    print( dd.graph )\n",
    "print(tf.get_default_graph())\n"
   ]
  },
  {
   "cell_type": "code",
   "execution_count": null,
   "metadata": {},
   "outputs": [],
   "source": []
  },
  {
   "cell_type": "code",
   "execution_count": null,
   "metadata": {},
   "outputs": [],
   "source": []
  }
 ],
 "metadata": {
  "kernelspec": {
   "display_name": "Python 2",
   "language": "python",
   "name": "python2"
  },
  "language_info": {
   "codemirror_mode": {
    "name": "ipython",
    "version": 2
   },
   "file_extension": ".py",
   "mimetype": "text/x-python",
   "name": "python",
   "nbconvert_exporter": "python",
   "pygments_lexer": "ipython2",
   "version": "2.7.12"
  }
 },
 "nbformat": 4,
 "nbformat_minor": 2
}
